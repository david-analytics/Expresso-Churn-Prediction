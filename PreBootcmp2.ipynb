{
 "cells": [
  {
   "cell_type": "code",
   "execution_count": 1,
   "metadata": {},
   "outputs": [],
   "source": [
    "import pandas as pd\n",
    "import numpy as np"
   ]
  },
  {
   "cell_type": "code",
   "execution_count": 2,
   "metadata": {},
   "outputs": [],
   "source": [
    "train = pd.read_csv('Train.csv')\n",
    "test = pd.read_csv('Test.csv')"
   ]
  },
  {
   "cell_type": "code",
   "execution_count": 3,
   "metadata": {},
   "outputs": [
    {
     "data": {
      "text/html": [
       "<div>\n",
       "<style scoped>\n",
       "    .dataframe tbody tr th:only-of-type {\n",
       "        vertical-align: middle;\n",
       "    }\n",
       "\n",
       "    .dataframe tbody tr th {\n",
       "        vertical-align: top;\n",
       "    }\n",
       "\n",
       "    .dataframe thead th {\n",
       "        text-align: right;\n",
       "    }\n",
       "</style>\n",
       "<table border=\"1\" class=\"dataframe\">\n",
       "  <thead>\n",
       "    <tr style=\"text-align: right;\">\n",
       "      <th></th>\n",
       "      <th>user_id</th>\n",
       "      <th>REGION</th>\n",
       "      <th>TENURE</th>\n",
       "      <th>MONTANT</th>\n",
       "      <th>FREQUENCE_RECH</th>\n",
       "      <th>REVENUE</th>\n",
       "      <th>ARPU_SEGMENT</th>\n",
       "      <th>FREQUENCE</th>\n",
       "      <th>DATA_VOLUME</th>\n",
       "      <th>ON_NET</th>\n",
       "      <th>ORANGE</th>\n",
       "      <th>TIGO</th>\n",
       "      <th>ZONE1</th>\n",
       "      <th>ZONE2</th>\n",
       "      <th>MRG</th>\n",
       "      <th>REGULARITY</th>\n",
       "      <th>TOP_PACK</th>\n",
       "      <th>FREQ_TOP_PACK</th>\n",
       "      <th>CHURN</th>\n",
       "    </tr>\n",
       "  </thead>\n",
       "  <tbody>\n",
       "    <tr>\n",
       "      <th>0</th>\n",
       "      <td>dcf68cc2fb515ccad7d8b9b3bd80ee2a4b270063</td>\n",
       "      <td>SAINT-LOUIS</td>\n",
       "      <td>K &gt; 24 month</td>\n",
       "      <td>17000.0</td>\n",
       "      <td>32.0</td>\n",
       "      <td>18000.0</td>\n",
       "      <td>6000.0</td>\n",
       "      <td>34.0</td>\n",
       "      <td>NaN</td>\n",
       "      <td>97.0</td>\n",
       "      <td>355.0</td>\n",
       "      <td>6.0</td>\n",
       "      <td>NaN</td>\n",
       "      <td>NaN</td>\n",
       "      <td>NO</td>\n",
       "      <td>62</td>\n",
       "      <td>All-net 500F=2000F;5d</td>\n",
       "      <td>35.0</td>\n",
       "      <td>0</td>\n",
       "    </tr>\n",
       "    <tr>\n",
       "      <th>1</th>\n",
       "      <td>71c44b5ba328db5c4192a80f7cf8f244d9350ed0</td>\n",
       "      <td>NaN</td>\n",
       "      <td>K &gt; 24 month</td>\n",
       "      <td>4300.0</td>\n",
       "      <td>29.0</td>\n",
       "      <td>4427.0</td>\n",
       "      <td>1476.0</td>\n",
       "      <td>37.0</td>\n",
       "      <td>1764.0</td>\n",
       "      <td>8.0</td>\n",
       "      <td>3.0</td>\n",
       "      <td>0.0</td>\n",
       "      <td>NaN</td>\n",
       "      <td>2.0</td>\n",
       "      <td>NO</td>\n",
       "      <td>40</td>\n",
       "      <td>Data: 100 F=40MB,24H</td>\n",
       "      <td>22.0</td>\n",
       "      <td>0</td>\n",
       "    </tr>\n",
       "    <tr>\n",
       "      <th>2</th>\n",
       "      <td>ce46411b1526c94f20a383b8cb188f8d27f82a0a</td>\n",
       "      <td>TAMBACOUNDA</td>\n",
       "      <td>K &gt; 24 month</td>\n",
       "      <td>1500.0</td>\n",
       "      <td>3.0</td>\n",
       "      <td>1500.0</td>\n",
       "      <td>500.0</td>\n",
       "      <td>3.0</td>\n",
       "      <td>NaN</td>\n",
       "      <td>30.0</td>\n",
       "      <td>30.0</td>\n",
       "      <td>NaN</td>\n",
       "      <td>NaN</td>\n",
       "      <td>NaN</td>\n",
       "      <td>NO</td>\n",
       "      <td>32</td>\n",
       "      <td>All-net 500F=2000F;5d</td>\n",
       "      <td>3.0</td>\n",
       "      <td>0</td>\n",
       "    </tr>\n",
       "  </tbody>\n",
       "</table>\n",
       "</div>"
      ],
      "text/plain": [
       "                                    user_id       REGION        TENURE  \\\n",
       "0  dcf68cc2fb515ccad7d8b9b3bd80ee2a4b270063  SAINT-LOUIS  K > 24 month   \n",
       "1  71c44b5ba328db5c4192a80f7cf8f244d9350ed0          NaN  K > 24 month   \n",
       "2  ce46411b1526c94f20a383b8cb188f8d27f82a0a  TAMBACOUNDA  K > 24 month   \n",
       "\n",
       "   MONTANT  FREQUENCE_RECH  REVENUE  ARPU_SEGMENT  FREQUENCE  DATA_VOLUME  \\\n",
       "0  17000.0            32.0  18000.0        6000.0       34.0          NaN   \n",
       "1   4300.0            29.0   4427.0        1476.0       37.0       1764.0   \n",
       "2   1500.0             3.0   1500.0         500.0        3.0          NaN   \n",
       "\n",
       "   ON_NET  ORANGE  TIGO  ZONE1  ZONE2 MRG  REGULARITY               TOP_PACK  \\\n",
       "0    97.0   355.0   6.0    NaN    NaN  NO          62  All-net 500F=2000F;5d   \n",
       "1     8.0     3.0   0.0    NaN    2.0  NO          40   Data: 100 F=40MB,24H   \n",
       "2    30.0    30.0   NaN    NaN    NaN  NO          32  All-net 500F=2000F;5d   \n",
       "\n",
       "   FREQ_TOP_PACK  CHURN  \n",
       "0           35.0      0  \n",
       "1           22.0      0  \n",
       "2            3.0      0  "
      ]
     },
     "execution_count": 3,
     "metadata": {},
     "output_type": "execute_result"
    }
   ],
   "source": [
    "train.head(3)"
   ]
  },
  {
   "cell_type": "code",
   "execution_count": 4,
   "metadata": {},
   "outputs": [
    {
     "data": {
      "text/plain": [
       "Index(['user_id', 'REGION', 'TENURE', 'MONTANT', 'FREQUENCE_RECH', 'REVENUE',\n",
       "       'ARPU_SEGMENT', 'FREQUENCE', 'DATA_VOLUME', 'ON_NET', 'ORANGE', 'TIGO',\n",
       "       'ZONE1', 'ZONE2', 'MRG', 'REGULARITY', 'TOP_PACK', 'FREQ_TOP_PACK',\n",
       "       'CHURN'],\n",
       "      dtype='object')"
      ]
     },
     "execution_count": 4,
     "metadata": {},
     "output_type": "execute_result"
    }
   ],
   "source": [
    "train.columns"
   ]
  },
  {
   "cell_type": "code",
   "execution_count": 5,
   "metadata": {},
   "outputs": [
    {
     "name": "stdout",
     "output_type": "stream",
     "text": [
      "<class 'pandas.core.frame.DataFrame'>\n",
      "RangeIndex: 400000 entries, 0 to 399999\n",
      "Data columns (total 19 columns):\n",
      " #   Column          Non-Null Count   Dtype  \n",
      "---  ------          --------------   -----  \n",
      " 0   user_id         400000 non-null  object \n",
      " 1   REGION          242480 non-null  object \n",
      " 2   TENURE          400000 non-null  object \n",
      " 3   MONTANT         259723 non-null  float64\n",
      " 4   FREQUENCE_RECH  259723 non-null  float64\n",
      " 5   REVENUE         265337 non-null  float64\n",
      " 6   ARPU_SEGMENT    265337 non-null  float64\n",
      " 7   FREQUENCE       265337 non-null  float64\n",
      " 8   DATA_VOLUME     203146 non-null  float64\n",
      " 9   ON_NET          254181 non-null  float64\n",
      " 10  ORANGE          233683 non-null  float64\n",
      " 11  TIGO            160614 non-null  float64\n",
      " 12  ZONE1           31690 non-null   float64\n",
      " 13  ZONE2           25513 non-null   float64\n",
      " 14  MRG             400000 non-null  object \n",
      " 15  REGULARITY      400000 non-null  int64  \n",
      " 16  TOP_PACK        232671 non-null  object \n",
      " 17  FREQ_TOP_PACK   232671 non-null  float64\n",
      " 18  CHURN           400000 non-null  int64  \n",
      "dtypes: float64(12), int64(2), object(5)\n",
      "memory usage: 50.4+ MB\n",
      "None\n"
     ]
    }
   ],
   "source": [
    "print(train.info())"
   ]
  },
  {
   "cell_type": "code",
   "execution_count": 6,
   "metadata": {},
   "outputs": [
    {
     "data": {
      "text/plain": [
       "user_id                0\n",
       "REGION            157520\n",
       "TENURE                 0\n",
       "MONTANT           140277\n",
       "FREQUENCE_RECH    140277\n",
       "REVENUE           134663\n",
       "ARPU_SEGMENT      134663\n",
       "FREQUENCE         134663\n",
       "DATA_VOLUME       196854\n",
       "ON_NET            145819\n",
       "ORANGE            166317\n",
       "TIGO              239386\n",
       "ZONE1             368310\n",
       "ZONE2             374487\n",
       "MRG                    0\n",
       "REGULARITY             0\n",
       "TOP_PACK          167329\n",
       "FREQ_TOP_PACK     167329\n",
       "CHURN                  0\n",
       "dtype: int64"
      ]
     },
     "execution_count": 6,
     "metadata": {},
     "output_type": "execute_result"
    }
   ],
   "source": [
    "train.isnull().sum()"
   ]
  },
  {
   "cell_type": "code",
   "execution_count": 7,
   "metadata": {},
   "outputs": [],
   "source": [
    "train['MRG'] = train['MRG'].factorize()[0]\n",
    "train['TENURE'] = train['TENURE'].factorize()[0]\n",
    "test['MRG'] = test['MRG'].factorize()[0]\n",
    "test['TENURE'] = test['TENURE'].factorize()[0]"
   ]
  },
  {
   "cell_type": "code",
   "execution_count": 8,
   "metadata": {},
   "outputs": [],
   "source": [
    "train = train.drop('TOP_PACK', axis=1)\n",
    "test = test.drop('TOP_PACK', axis=1)"
   ]
  },
  {
   "cell_type": "code",
   "execution_count": 9,
   "metadata": {},
   "outputs": [
    {
     "name": "stdout",
     "output_type": "stream",
     "text": [
      "4.000000 columns were dropped\n"
     ]
    }
   ],
   "source": [
    "to_drop = [columns for columns in train.columns[train.isnull().mean()>=0.7]]\n",
    "to_drop.extend([columns for columns in train.columns if columns not in ['user_id', 'REGION']\n",
    "                if train[columns].std() == 0])\n",
    "to_drop.append('user_id')\n",
    "train.drop(to_drop, axis=1, inplace=True)\n",
    "test.drop(to_drop, axis=1, inplace=True)\n",
    "print(\"%f columns were dropped\"%(len(to_drop)))"
   ]
  },
  {
   "cell_type": "code",
   "execution_count": 10,
   "metadata": {},
   "outputs": [],
   "source": [
    "train = train.fillna(method='bfill')\n",
    "test = test.fillna(method='bfill')"
   ]
  },
  {
   "cell_type": "code",
   "execution_count": 11,
   "metadata": {},
   "outputs": [
    {
     "name": "stdout",
     "output_type": "stream",
     "text": [
      "DAKAR          157923\n",
      "THIES           54719\n",
      "SAINT-LOUIS     36744\n",
      "LOUGA           30431\n",
      "KAOLACK         29874\n",
      "DIOURBEL        20575\n",
      "TAMBACOUNDA     16966\n",
      "KAFFRINE        13421\n",
      "KOLDA           11928\n",
      "FATICK          10945\n",
      "MATAM            8640\n",
      "ZIGUINCHOR       6584\n",
      "SEDHIOU           941\n",
      "KEDOUGOU          305\n",
      "Name: REGION, dtype: int64\n"
     ]
    }
   ],
   "source": [
    "print(train['REGION'].value_counts())"
   ]
  },
  {
   "cell_type": "code",
   "execution_count": 12,
   "metadata": {},
   "outputs": [
    {
     "name": "stdout",
     "output_type": "stream",
     "text": [
      "{'REGION': {'DAKAR': 1, 'DIOURBEL': 2, 'FATICK': 3, 'KAFFRINE': 4, 'KAOLACK': 5, 'KEDOUGOU': 6, 'KOLDA': 7, 'LOUGA': 8, 'MATAM': 9, 'SAINT-LOUIS': 10, 'SEDHIOU': 11, 'TAMBACOUNDA': 12, 'THIES': 13, 'ZIGUINCHOR': 14}}\n"
     ]
    }
   ],
   "source": [
    "label = train['REGION'].astype('category').cat.categories.tolist()\n",
    "replace = {'REGION' : {k: v for k,v in zip(label,list(range(1,len(label)+1)))}}\n",
    "print(replace)\n",
    "train.replace(replace, inplace=True) "
   ]
  },
  {
   "cell_type": "code",
   "execution_count": 13,
   "metadata": {},
   "outputs": [
    {
     "name": "stdout",
     "output_type": "stream",
     "text": [
      "{'REGION': {'DAKAR': 1, 'DIOURBEL': 2, 'FATICK': 3, 'KAFFRINE': 4, 'KAOLACK': 5, 'KEDOUGOU': 6, 'KOLDA': 7, 'LOUGA': 8, 'MATAM': 9, 'SAINT-LOUIS': 10, 'SEDHIOU': 11, 'TAMBACOUNDA': 12, 'THIES': 13, 'ZIGUINCHOR': 14}}\n"
     ]
    }
   ],
   "source": [
    "label = test['REGION'].astype('category').cat.categories.tolist()\n",
    "replace = {'REGION' : {k: v for k,v in zip(label,list(range(1,len(label)+1)))}}\n",
    "print(replace)\n",
    "test.replace(replace, inplace=True)"
   ]
  },
  {
   "cell_type": "code",
   "execution_count": 15,
   "metadata": {},
   "outputs": [],
   "source": [
    "#filling the remaining missing data\n",
    "for col in train.columns:\n",
    "    train[col].fillna(train[col].mean(),inplace= True)\n",
    "for col in test.columns:\n",
    "    test[col].fillna(test[col].mean(),inplace= True)"
   ]
  },
  {
   "cell_type": "code",
   "execution_count": 16,
   "metadata": {},
   "outputs": [],
   "source": [
    "from sklearn.model_selection import train_test_split\n",
    "from sklearn.preprocessing import StandardScaler\n",
    "sc = StandardScaler()\n",
    "train_trans = sc.fit_transform(train.drop(['CHURN'], axis = 1))\n",
    "test_trans = sc.transform(test)"
   ]
  },
  {
   "cell_type": "code",
   "execution_count": 17,
   "metadata": {},
   "outputs": [],
   "source": [
    "X = train_trans\n",
    "y= train['CHURN']"
   ]
  },
  {
   "cell_type": "code",
   "execution_count": 18,
   "metadata": {},
   "outputs": [
    {
     "name": "stdout",
     "output_type": "stream",
     "text": [
      "(280000, 13)\n",
      "(120000, 13)\n",
      "(280000,)\n",
      "(120000,)\n"
     ]
    }
   ],
   "source": [
    "X_train, X_test, y_train, y_test = train_test_split(X, y, test_size=0.3, random_state=42)\n",
    "print(X_train.shape)\n",
    "print(X_test.shape)\n",
    "print(y_train.shape)\n",
    "print(y_test.shape)"
   ]
  },
  {
   "cell_type": "code",
   "execution_count": 19,
   "metadata": {},
   "outputs": [],
   "source": [
    "def loss(true, pred):\n",
    "    from sklearn.metrics import log_loss\n",
    "    return np.sqrt(log_loss(true, pred))"
   ]
  },
  {
   "cell_type": "code",
   "execution_count": 21,
   "metadata": {},
   "outputs": [
    {
     "data": {
      "text/plain": [
       "0.5576965360299676"
      ]
     },
     "execution_count": 21,
     "metadata": {},
     "output_type": "execute_result"
    }
   ],
   "source": [
    "from sklearn.ensemble import RandomForestClassifier\n",
    "rf = RandomForestClassifier(n_estimators=1000, min_samples_split=15, min_samples_leaf=15, max_features='auto', max_depth=11)\n",
    "rf.fit(X_train, y_train)\n",
    "y_pred = rf.predict_proba(X_test)\n",
    "loss(y_test, y_pred)"
   ]
  },
  {
   "cell_type": "code",
   "execution_count": 22,
   "metadata": {},
   "outputs": [
    {
     "data": {
      "text/plain": [
       "0.5539458680910758"
      ]
     },
     "execution_count": 22,
     "metadata": {},
     "output_type": "execute_result"
    }
   ],
   "source": [
    "from sklearn.ensemble import GradientBoostingClassifier\n",
    "gbr =GradientBoostingClassifier()\n",
    "gbr.fit(X_train, y_train)\n",
    "y_pred = gbr.predict_proba(X_test)\n",
    "loss(y_test, y_pred)"
   ]
  },
  {
   "cell_type": "code",
   "execution_count": 26,
   "metadata": {},
   "outputs": [
    {
     "data": {
      "image/png": "[encoded data removed]",
      "text/plain": [
       "<Figure size 720x576 with 1 Axes>"
      ]
     },
     "metadata": {
      "needs_background": "light"
     },
     "output_type": "display_data"
    }
   ],
   "source": [
    "import matplotlib.pyplot as plt\n",
    "import seaborn as sns\n",
    "feature_imp = pd.DataFrame(sorted(zip(rf.feature_importances_,train.columns)), columns=['Value','Feature'])\n",
    "\n",
    "plt.figure(figsize=(10,8))\n",
    "sns.barplot(x=\"Value\", y=\"Feature\", data=feature_imp.sort_values(by=\"Value\", ascending=False))\n",
    "plt.title('Gradient Boostig')\n",
    "plt.tight_layout()\n",
    "plt.show()"
   ]
  },
  {
   "cell_type": "code",
   "execution_count": 27,
   "metadata": {},
   "outputs": [],
   "source": [
    "from sklearn.ensemble import AdaBoostClassifier"
   ]
  },
  {
   "cell_type": "code",
   "execution_count": 31,
   "metadata": {},
   "outputs": [
    {
     "data": {
      "text/plain": [
       "0.8175096457886906"
      ]
     },
     "execution_count": 31,
     "metadata": {},
     "output_type": "execute_result"
    }
   ],
   "source": [
    "ada =AdaBoostClassifier()\n",
    "ada.fit(X_train, y_train)\n",
    "y_pred = ada.predict_proba(X_test)\n",
    "loss(y_test, y_pred)"
   ]
  },
  {
   "cell_type": "code",
   "execution_count": null,
   "metadata": {},
   "outputs": [],
   "source": []
  }
 ],
 "metadata": {
  "kernelspec": {
   "display_name": "Python 3 (ipykernel)",
   "language": "python",
   "name": "python3"
  },
  "language_info": {
   "codemirror_mode": {
    "name": "ipython",
    "version": 3
   },
   "file_extension": ".py",
   "mimetype": "text/x-python",
   "name": "python",
   "nbconvert_exporter": "python",
   "pygments_lexer": "ipython3",
   "version": "3.9.12"
  }
 },
 "nbformat": 4,
 "nbformat_minor": 4
}
